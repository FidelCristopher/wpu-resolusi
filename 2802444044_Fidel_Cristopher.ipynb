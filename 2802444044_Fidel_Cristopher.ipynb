{
  "nbformat": 4,
  "nbformat_minor": 0,
  "metadata": {
    "colab": {
      "provenance": [],
      "authorship_tag": "ABX9TyMkjDoPI2+7ChtKZ+LiaDwq",
      "include_colab_link": true
    },
    "kernelspec": {
      "name": "python3",
      "display_name": "Python 3"
    },
    "language_info": {
      "name": "python"
    }
  },
  "cells": [
    {
      "cell_type": "markdown",
      "metadata": {
        "id": "view-in-github",
        "colab_type": "text"
      },
      "source": [
        "<a href=\"https://colab.research.google.com/github/FidelCristopher/wpu-resolusi/blob/master/2802444044_Fidel_Cristopher.ipynb\" target=\"_parent\"><img src=\"https://colab.research.google.com/assets/colab-badge.svg\" alt=\"Open In Colab\"/></a>"
      ]
    },
    {
      "cell_type": "code",
      "execution_count": null,
      "metadata": {
        "colab": {
          "base_uri": "https://localhost:8080/"
        },
        "id": "-T81G0ZPrLqH",
        "outputId": "83a571d8-04e9-40e1-f21d-bf10e9dfa5a4"
      },
      "outputs": [
        {
          "output_type": "stream",
          "name": "stdout",
          "text": [
            "Thu Feb  6 14:32:49 2025\n"
          ]
        }
      ],
      "source": [
        "import time\n",
        "print(time.ctime())"
      ]
    },
    {
      "cell_type": "code",
      "source": [
        "x = 1\n",
        "x"
      ],
      "metadata": {
        "colab": {
          "base_uri": "https://localhost:8080/"
        },
        "id": "tk5qldrJrUZS",
        "outputId": "841e01cc-42f0-481d-ea25-ef7b619007bd"
      },
      "execution_count": null,
      "outputs": [
        {
          "output_type": "execute_result",
          "data": {
            "text/plain": [
              "1"
            ]
          },
          "metadata": {},
          "execution_count": 3
        }
      ]
    },
    {
      "cell_type": "code",
      "source": [
        "x = x + 1\n",
        "x"
      ],
      "metadata": {
        "colab": {
          "base_uri": "https://localhost:8080/"
        },
        "id": "_GjU60torb87",
        "outputId": "7bc69e97-0dd8-4824-8734-64f360c3ab6f"
      },
      "execution_count": null,
      "outputs": [
        {
          "output_type": "execute_result",
          "data": {
            "text/plain": [
              "2"
            ]
          },
          "metadata": {},
          "execution_count": 4
        }
      ]
    },
    {
      "cell_type": "code",
      "source": [
        "x = 1\n",
        "y = x + 1\n",
        "x = 2\n",
        "y"
      ],
      "metadata": {
        "colab": {
          "base_uri": "https://localhost:8080/"
        },
        "id": "l3YfKcYSred1",
        "outputId": "5c92b817-fe2b-48c7-d75b-9a2fbcf61909"
      },
      "execution_count": null,
      "outputs": [
        {
          "output_type": "execute_result",
          "data": {
            "text/plain": [
              "2"
            ]
          },
          "metadata": {},
          "execution_count": 5
        }
      ]
    },
    {
      "cell_type": "code",
      "source": [
        "import numpy as np"
      ],
      "metadata": {
        "id": "w_uP-1E7rjB2"
      },
      "execution_count": null,
      "outputs": []
    },
    {
      "cell_type": "code",
      "source": [
        "x = np.array([1, 4, 3])\n",
        "x"
      ],
      "metadata": {
        "colab": {
          "base_uri": "https://localhost:8080/"
        },
        "id": "1GtF_KYerljs",
        "outputId": "0d59a76c-c0e5-4354-a22b-b141919d13c8"
      },
      "execution_count": null,
      "outputs": [
        {
          "output_type": "execute_result",
          "data": {
            "text/plain": [
              "array([1, 4, 3])"
            ]
          },
          "metadata": {},
          "execution_count": 9
        }
      ]
    },
    {
      "cell_type": "code",
      "source": [
        "y = np.array([1, 4, 3])\n",
        "y"
      ],
      "metadata": {
        "colab": {
          "base_uri": "https://localhost:8080/"
        },
        "id": "4p9eVauPrusI",
        "outputId": "112f1690-1437-4420-a7fb-9de58b25a5f3"
      },
      "execution_count": null,
      "outputs": [
        {
          "output_type": "execute_result",
          "data": {
            "text/plain": [
              "array([1, 4, 3])"
            ]
          },
          "metadata": {},
          "execution_count": 12
        }
      ]
    },
    {
      "cell_type": "code",
      "source": [
        "x = np.array([[1, 4, 3], [9, 2, 7]])\n",
        "x"
      ],
      "metadata": {
        "colab": {
          "base_uri": "https://localhost:8080/"
        },
        "id": "53BP7n-Xr1-W",
        "outputId": "22bf9a3b-3116-432a-cd84-c90d50b58d6d"
      },
      "execution_count": null,
      "outputs": [
        {
          "output_type": "execute_result",
          "data": {
            "text/plain": [
              "array([[1, 4, 3],\n",
              "       [9, 2, 7]])"
            ]
          },
          "metadata": {},
          "execution_count": 15
        }
      ]
    },
    {
      "cell_type": "code",
      "source": [
        "def my_adder(a, b, c):\n",
        "\n",
        " \"\"\"\n",
        " function to sum three numbers\n",
        " Input: 3 numbers a, b, c\n",
        " Ouput: the sum of a, b, and c\n",
        " author:\n",
        " date:\n",
        " \"\"\"\n",
        "\n",
        " #this is simulation\n",
        " out = a + b + c\n",
        "\n",
        " return out"
      ],
      "metadata": {
        "id": "Hr04AYv4sMih"
      },
      "execution_count": null,
      "outputs": []
    },
    {
      "cell_type": "code",
      "source": [
        "my_adder (1, 2, 3)"
      ],
      "metadata": {
        "colab": {
          "base_uri": "https://localhost:8080/"
        },
        "id": "CVe3JtQys6Mc",
        "outputId": "0e8343fd-ff25-466d-fbd6-284207e5fbb3"
      },
      "execution_count": null,
      "outputs": [
        {
          "output_type": "execute_result",
          "data": {
            "text/plain": [
              "6"
            ]
          },
          "metadata": {},
          "execution_count": 24
        }
      ]
    },
    {
      "cell_type": "code",
      "source": [
        "def my_thermo_stat(temp, desired_temp):\n",
        "  if temp < desired_temp - 5:\n",
        "    status = 'Heat'\n",
        "  elif temp > desired_temp + 5:\n",
        "    status = 'AC'\n",
        "  else:\n",
        "    status = 'Off'\n",
        "  return status\n"
      ],
      "metadata": {
        "id": "uomdhpvzs93r"
      },
      "execution_count": null,
      "outputs": []
    },
    {
      "cell_type": "code",
      "source": [
        "status = my_thermo_stat(65,75)\n",
        "print(status)"
      ],
      "metadata": {
        "colab": {
          "base_uri": "https://localhost:8080/"
        },
        "id": "5aZov4pUtFBa",
        "outputId": "9a55ecaf-c7cd-4ae8-9059-fd7e2fd8dc1b"
      },
      "execution_count": null,
      "outputs": [
        {
          "output_type": "stream",
          "name": "stdout",
          "text": [
            "Heat\n"
          ]
        }
      ]
    },
    {
      "cell_type": "code",
      "source": [
        "status = my_thermo_stat(75, 65)\n",
        "print(status)"
      ],
      "metadata": {
        "colab": {
          "base_uri": "https://localhost:8080/"
        },
        "id": "rJ7Rpr8otOI6",
        "outputId": "c346c5ee-333e-4100-a2f1-9b42c6a10820"
      },
      "execution_count": null,
      "outputs": [
        {
          "output_type": "stream",
          "name": "stdout",
          "text": [
            "AC\n"
          ]
        }
      ]
    },
    {
      "cell_type": "code",
      "source": [
        "status = my_thermo_stat(65, 63)\n",
        "print(status)"
      ],
      "metadata": {
        "colab": {
          "base_uri": "https://localhost:8080/"
        },
        "id": "f9rzAa7RtV4d",
        "outputId": "142d1a71-fada-4e3e-b793-53590e3797c5"
      },
      "execution_count": null,
      "outputs": [
        {
          "output_type": "stream",
          "name": "stdout",
          "text": [
            "Off\n"
          ]
        }
      ]
    },
    {
      "cell_type": "markdown",
      "source": [
        "MODUL 1 (GRADING SYSTEM)"
      ],
      "metadata": {
        "id": "QYAPDGjTz6NA"
      }
    },
    {
      "cell_type": "code",
      "source": [
        "def login():\n",
        "    username = \"Fidel Cristopher\"\n",
        "    password = \"Bn123\"\n",
        "\n",
        "    while True:\n",
        "        user_input = input(\"Masukkan Username: \")\n",
        "        pass_input = input(\"Masukkan Password: \")\n",
        "\n",
        "        if user_input == username and pass_input == password:\n",
        "            print(\"Login Berhasil!\\n\")\n",
        "            break\n",
        "        else:\n",
        "            print(\"Username atau password salah. Coba lagi.\\n\")\n",
        "\n",
        "def calculate(uas, uts, asg):\n",
        "    return (0.5 * uas) + (0.3 * uts) + (0.2 * asg)\n",
        "\n",
        "def determine_grade(score):\n",
        "    if 90 <= score <= 100:\n",
        "        return \"A\"\n",
        "    elif 85 <= score < 90:\n",
        "        return \"A-\"\n",
        "    elif 80 <= score < 85:\n",
        "        return \"B+\"\n",
        "    elif 75 <= score < 80:\n",
        "        return \"B\"\n",
        "    elif 70 <= score < 75:\n",
        "        return \"B-\"\n",
        "    elif 65 <= score < 70:\n",
        "        return \"C\"\n",
        "    elif 50 <= score < 65:\n",
        "        return \"D\"\n",
        "    elif 0 <= score < 50:\n",
        "        return \"E\"\n",
        "    else:\n",
        "        return \"Invalid Score\"\n",
        "\n",
        "def main():\n",
        "    login()\n",
        "\n",
        "    nama_siswa = input(\"Masukkan nama siswa: \")\n",
        "    uas = int(input(\"Masukkan Nilai UAS: \"))\n",
        "    uts = int(input(\"Masukkan Nilai UTS: \"))\n",
        "    asg = int(input(\"Masukkan Nilai Assignment: \"))\n",
        "\n",
        "    final_score = calculate(uas, uts, asg)\n",
        "    grade = determine_grade(final_score)\n",
        "\n",
        "    print(\"==========================================\")\n",
        "    print(f\"Nama Siswa: {nama_siswa}\")\n",
        "    print(f\"Final Score: {final_score:.2f}\")\n",
        "    print(f\"Grade: {grade}\")\n",
        "\n",
        "if __name__ == \"__main__\":\n",
        "    main()\n"
      ],
      "metadata": {
        "colab": {
          "base_uri": "https://localhost:8080/"
        },
        "id": "n99jc12ptaRB",
        "outputId": "43494aac-ed28-46e4-da6a-3365d846806a"
      },
      "execution_count": null,
      "outputs": [
        {
          "output_type": "stream",
          "name": "stdout",
          "text": [
            "Masukkan Username: Fidel Cristopher\n",
            "Masukkan Password: Bn123\n",
            "Login Berhasil!\n",
            "\n",
            "Masukkan nama siswa: Budi\n",
            "Masukkan Nilai UAS: 90\n",
            "Masukkan Nilai UTS: 75\n",
            "Masukkan Nilai Assignment: 98\n",
            "==========================================\n",
            "Nama Siswa: Budi\n",
            "Final Score: 87.10\n",
            "Grade: A-\n"
          ]
        }
      ]
    }
  ]
}